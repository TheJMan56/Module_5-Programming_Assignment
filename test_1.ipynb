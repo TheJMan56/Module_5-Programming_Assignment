{
 "cells": [
  {
   "cell_type": "code",
   "execution_count": null,
   "id": "088f2c88",
   "metadata": {},
   "outputs": [],
   "source": [
    "import unittest\n",
    "\n",
    "from my_math import sum\n",
    "from my_math import difference\n",
    "\n",
    "\n",
    "class TestSum(unittest.TestCase):\n",
    "    def test_list_int(self):\n",
    "        \"\"\"\n",
    "        Test that it can sum a list of integers\n",
    "        \"\"\"\n",
    "        data = [1, 2, 3]\n",
    "        result = sum(data)\n",
    "        self.assertEqual(result, 6)\n",
    "\n",
    "class TestDifference(unittest.TestCase):\n",
    "    def test_list_int(self):\n",
    "        \"\"\"\n",
    "        Test that it can subtract a list of integers from a first number\n",
    "        \"\"\"\n",
    "        data = [4, 2]\n",
    "        result = difference(data)\n",
    "        self.assertEqual(result, 2)\n",
    "\n",
    "if __name__ == '__main__':\n",
    "    unittest.main()"
   ]
  },
  {
   "cell_type": "markdown",
   "id": "c0ae9967",
   "metadata": {},
   "source": [
    "In my own interpretation of the results, I had to create an instance of a type of object class from the unittest module.  Within the instance, I inserted data into the function that I was testing, which came from the __init__ script in the my_math folder of the same directory as the test script.  Using a built-in method for the TestCase object class, I asserted that the output of the tested function would equal to a pre-specified and known value.  If the output equals the pre-specified known value in the assertion method, then the test has passed, because the actual output is the same as the expected output, which is assumed to be correct.  If the output does not equal the pre-specified known value in the assertion method, then the test has failed, because the actual output is not the same as the expected output, which is assumed to be correct.\n",
    "\n",
    "Multiple tests can be performed all at once, as long as each test script follows a “test_” naming convention.  When multiple tests are performed all at once, the user is told how many tests failed.  The failed tests are directly mentioned in the output of the terminal when multiple tests are performed all at once.  The exact line of code that produced the failure, which is the line that contains the use of the assertion method, is also directly mentioned in the terminal output.  The AssertionError is specified, with the actual output not equaling the asserted output.\n",
    "\n",
    "My tests have passed, because the tested functions produce output that matches the expected output, which is assumed to be correct.\n"
   ]
  }
 ],
 "metadata": {
  "kernelspec": {
   "display_name": "Python 3 (ipykernel)",
   "language": "python",
   "name": "python3"
  },
  "language_info": {
   "codemirror_mode": {
    "name": "ipython",
    "version": 3
   },
   "file_extension": ".py",
   "mimetype": "text/x-python",
   "name": "python",
   "nbconvert_exporter": "python",
   "pygments_lexer": "ipython3",
   "version": "3.9.13"
  }
 },
 "nbformat": 4,
 "nbformat_minor": 5
}
